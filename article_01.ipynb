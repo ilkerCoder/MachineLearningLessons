{
 "cells": [
  {
   "cell_type": "code",
   "execution_count": 1,
   "metadata": {},
   "outputs": [],
   "source": [
    "import pandas as pd\n",
    "import numpy as np"
   ]
  },
  {
   "cell_type": "code",
   "execution_count": 3,
   "metadata": {},
   "outputs": [],
   "source": [
    "# MAAŞ SÜTUNU\n",
    "ozellik_vektor = [5000, 6000, 7000, 8000,\n",
    "                  9000, 10000, 11000, 12000, 13000, 14000]\n",
    "# ÇİKOLATA SÜTUNU\n",
    "hedef_vektor = [5, 6, 7, 8, 9, 10, 11, 12, 13, 14]"
   ]
  },
  {
   "cell_type": "code",
   "execution_count": 7,
   "metadata": {},
   "outputs": [],
   "source": [
    "df = pd.DataFrame(data={\"MAAŞ\": ozellik_vektor, \"ÇİKOLATA\": hedef_vektor})"
   ]
  },
  {
   "cell_type": "code",
   "execution_count": 8,
   "metadata": {},
   "outputs": [
    {
     "data": {
      "text/html": [
       "<div>\n",
       "<style scoped>\n",
       "    .dataframe tbody tr th:only-of-type {\n",
       "        vertical-align: middle;\n",
       "    }\n",
       "\n",
       "    .dataframe tbody tr th {\n",
       "        vertical-align: top;\n",
       "    }\n",
       "\n",
       "    .dataframe thead th {\n",
       "        text-align: right;\n",
       "    }\n",
       "</style>\n",
       "<table border=\"1\" class=\"dataframe\">\n",
       "  <thead>\n",
       "    <tr style=\"text-align: right;\">\n",
       "      <th></th>\n",
       "      <th>MAAŞ</th>\n",
       "      <th>ÇİKOLATA</th>\n",
       "    </tr>\n",
       "  </thead>\n",
       "  <tbody>\n",
       "    <tr>\n",
       "      <th>0</th>\n",
       "      <td>5000</td>\n",
       "      <td>5</td>\n",
       "    </tr>\n",
       "    <tr>\n",
       "      <th>1</th>\n",
       "      <td>6000</td>\n",
       "      <td>6</td>\n",
       "    </tr>\n",
       "    <tr>\n",
       "      <th>2</th>\n",
       "      <td>7000</td>\n",
       "      <td>7</td>\n",
       "    </tr>\n",
       "    <tr>\n",
       "      <th>3</th>\n",
       "      <td>8000</td>\n",
       "      <td>8</td>\n",
       "    </tr>\n",
       "    <tr>\n",
       "      <th>4</th>\n",
       "      <td>9000</td>\n",
       "      <td>9</td>\n",
       "    </tr>\n",
       "    <tr>\n",
       "      <th>5</th>\n",
       "      <td>10000</td>\n",
       "      <td>10</td>\n",
       "    </tr>\n",
       "    <tr>\n",
       "      <th>6</th>\n",
       "      <td>11000</td>\n",
       "      <td>11</td>\n",
       "    </tr>\n",
       "    <tr>\n",
       "      <th>7</th>\n",
       "      <td>12000</td>\n",
       "      <td>12</td>\n",
       "    </tr>\n",
       "    <tr>\n",
       "      <th>8</th>\n",
       "      <td>13000</td>\n",
       "      <td>13</td>\n",
       "    </tr>\n",
       "    <tr>\n",
       "      <th>9</th>\n",
       "      <td>14000</td>\n",
       "      <td>14</td>\n",
       "    </tr>\n",
       "  </tbody>\n",
       "</table>\n",
       "</div>"
      ],
      "text/plain": [
       "    MAAŞ  ÇİKOLATA\n",
       "0   5000         5\n",
       "1   6000         6\n",
       "2   7000         7\n",
       "3   8000         8\n",
       "4   9000         9\n",
       "5  10000        10\n",
       "6  11000        11\n",
       "7  12000        12\n",
       "8  13000        13\n",
       "9  14000        14"
      ]
     },
     "execution_count": 8,
     "metadata": {},
     "output_type": "execute_result"
    }
   ],
   "source": [
    "df"
   ]
  },
  {
   "cell_type": "code",
   "execution_count": 12,
   "metadata": {},
   "outputs": [
    {
     "data": {
      "text/plain": [
       "Text(0, 0.5, 'ÇİKOLATA ADET')"
      ]
     },
     "execution_count": 12,
     "metadata": {},
     "output_type": "execute_result"
    },
    {
     "data": {
      "image/png": "[encoded data removed]",
      "text/plain": [
       "<Figure size 640x480 with 1 Axes>"
      ]
     },
     "metadata": {},
     "output_type": "display_data"
    }
   ],
   "source": [
    "import matplotlib.pylab as plt\n",
    "plt.plot(df[\"MAAŞ\"], df[\"ÇİKOLATA\"])\n",
    "plt.title('MAAŞA GORE CIKOLATA ALIMLARI')\n",
    "plt.xlabel('MAAŞ')\n",
    "plt.ylabel('ÇİKOLATA ADET')"
   ]
  },
  {
   "cell_type": "code",
   "execution_count": 52,
   "metadata": {},
   "outputs": [],
   "source": [
    "\n",
    "class KendiModelim:\n",
    "    def __init__(self):\n",
    "        self.a = 0.005\n",
    "        self.b = 0\n",
    "\n",
    "    def fit(self, X: pd.DataFrame = None, y: pd.DataFrame = None):\n",
    "        \"\"\"BİRAZ SCİKİT-LEARN VE DİGER KÜTÜPHANELERDE \n",
    "           CALISTIYSANIZ FIT FONKSİYONU KULLANMIŞSINIZDIR.\n",
    "           TURCESİ UYDURMAK , YERLEŞTİRMEK ANLAMINA GELEN BU FONKSİYON\n",
    "           GERCEKTEN UYDURUYOR . FAKAT TABİKİ ONCEDEN BELİRTİLMİŞ ALGORİTMALARA\n",
    "           VE MATEMATİKSEL VE İSTATİSTİKSEL BULUŞLARA DAYANARAK. MESELA X ABİMİZİN\n",
    "           BULDUGU Y TEKNİGİ SAYESİNDE A VE B DEGERLER BULUNUYOR . DAHA SONRA YENİ BİR \n",
    "           X DEGERİ İCİN A VE B DEGERİ YERİNE KONULUYOR. FAKAT BİZ BURADA ORNEK OLMASI ACISINDAN A VE B Yİ \n",
    "           0.5 VE 0 OLARAK BELİRTTİĞİMİZDEN BU FONSKİYON BİR İŞLEM YAPMAYACAK.\n",
    "                \"\"\"\n",
    "        pass\n",
    "\n",
    "    def predict(self, tahmin_edilecek_deger: list) -> list:\n",
    "\n",
    "        return [self.a * deger + self.b for deger in tahmin_edilecek_deger]"
   ]
  },
  {
   "cell_type": "code",
   "execution_count": 53,
   "metadata": {},
   "outputs": [],
   "source": [
    "kendi_modelim = KendiModelim()\n",
    "# FIT EDİLİP A VE B DEGERLERİ BULUNACAK.\n",
    "kendi_modelim.fit()\n",
    "# YENİ BİR DEGERLE TAHMİN YAPALIM.\n",
    "yeni_degerler = [5675, 2345]\n",
    "# TAHMIN SONUCLARI\n",
    "tahmin_sonucları = kendi_modelim.predict(yeni_degerler)"
   ]
  },
  {
   "cell_type": "code",
   "execution_count": 54,
   "metadata": {},
   "outputs": [
    {
     "data": {
      "text/plain": [
       "[28.375, 11.725]"
      ]
     },
     "execution_count": 54,
     "metadata": {},
     "output_type": "execute_result"
    }
   ],
   "source": [
    "tahmin_sonucları "
   ]
  },
  {
   "cell_type": "code",
   "execution_count": null,
   "metadata": {},
   "outputs": [],
   "source": [
    "\n",
    "\n",
    "# BURASI BİRAZ ÇOKOMELLİ. BURADA MODEL DEĞERLMENDİRME(EVALUATİON) KISIMLARINA GİRİŞ YAPACAĞIZ.\n",
    "tahminler = kendi_modelim.predict()"
   ]
  }
 ],
 "metadata": {
  "kernelspec": {
   "display_name": "Python 3",
   "language": "python",
   "name": "python3"
  },
  "language_info": {
   "codemirror_mode": {
    "name": "ipython",
    "version": 3
   },
   "file_extension": ".py",
   "mimetype": "text/x-python",
   "name": "python",
   "nbconvert_exporter": "python",
   "pygments_lexer": "ipython3",
   "version": "3.9.5"
  }
 },
 "nbformat": 4,
 "nbformat_minor": 2
}
